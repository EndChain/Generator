{
 "cells": [
  {
   "cell_type": "code",
   "execution_count": 29,
   "metadata": {
    "collapsed": false
   },
   "outputs": [],
   "source": [
    "import pyqrcode"
   ]
  },
  {
   "cell_type": "code",
   "execution_count": 30,
   "metadata": {
    "collapsed": true
   },
   "outputs": [],
   "source": [
    "import barcode"
   ]
  },
  {
   "cell_type": "code",
   "execution_count": 31,
   "metadata": {
    "collapsed": true
   },
   "outputs": [],
   "source": [
    "from matplotlib.pyplot import imshow\n",
    "import numpy as np\n",
    "from PIL import Image"
   ]
  },
  {
   "cell_type": "code",
   "execution_count": 32,
   "metadata": {
    "collapsed": false
   },
   "outputs": [
    {
     "name": "stdout",
     "output_type": "stream",
     "text": [
      "(523, 280)\n",
      "(395, 200)\n"
     ]
    }
   ],
   "source": [
    "# Generate EAN13 Barcode\n",
    "from barcode.writer import ImageWriter\n",
    "EAN = barcode.get_barcode_class('ean13')\n",
    "ean = EAN(u'5901234123457', writer=ImageWriter())\n",
    "fullname = ean.save('ean13_barcode')\n",
    "#Crop the Barcode\n",
    "im=Image.open(\"ean13_barcode.png\")\n",
    "print im.size\n",
    "im2=im.crop((65, 0, 460, 200))\n",
    "print im2.size\n",
    "im2.save(\"ean13_barcode_cropped.png\")"
   ]
  },
  {
   "cell_type": "code",
   "execution_count": 33,
   "metadata": {
    "collapsed": true
   },
   "outputs": [],
   "source": [
    "%matplotlib inline"
   ]
  },
  {
   "cell_type": "code",
   "execution_count": 34,
   "metadata": {
    "collapsed": false
   },
   "outputs": [],
   "source": [
    "#Generate QrCode\n",
    "url = pyqrcode.create('https://www.endchain.io/',error = 'H', version=5)\n",
    "url.png('generatedQR.png',scale=10)\n",
    "\n",
    "#Combine the Barcode and QRcode\n",
    "im = Image.open('generatedQR.png')\n",
    "im = im.convert(\"RGBA\")\n",
    "logo = Image.open('ean13_barcode_cropped.png')\n",
    "box = (190,200,450,310)\n",
    "im.crop(box)\n",
    "region = logo\n",
    "region = region.resize((box[2] - box[0], box[3] - box[1]))\n",
    "im.paste(region,box)\n",
    "im.show()"
   ]
  },
  {
   "cell_type": "code",
   "execution_count": 35,
   "metadata": {
    "collapsed": true
   },
   "outputs": [],
   "source": [
    "#Save the combination\n",
    "im.save('out.png')"
   ]
  },
  {
   "cell_type": "code",
   "execution_count": null,
   "metadata": {
    "collapsed": true
   },
   "outputs": [],
   "source": []
  }
 ],
 "metadata": {
  "anaconda-cloud": {},
  "kernelspec": {
   "display_name": "Python [Root]",
   "language": "python",
   "name": "Python [Root]"
  },
  "language_info": {
   "codemirror_mode": {
    "name": "ipython",
    "version": 2
   },
   "file_extension": ".py",
   "mimetype": "text/x-python",
   "name": "python",
   "nbconvert_exporter": "python",
   "pygments_lexer": "ipython2",
   "version": "2.7.12"
  }
 },
 "nbformat": 4,
 "nbformat_minor": 2
}
