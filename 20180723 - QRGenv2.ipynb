{
 "cells": [
  {
   "cell_type": "code",
   "execution_count": 1,
   "metadata": {},
   "outputs": [],
   "source": [
    "import pyqrcode"
   ]
  },
  {
   "cell_type": "code",
   "execution_count": 2,
   "metadata": {},
   "outputs": [],
   "source": [
    "from matplotlib.pyplot import imshow\n",
    "import numpy as np\n",
    "from PIL import Image"
   ]
  },
  {
   "cell_type": "code",
   "execution_count": 3,
   "metadata": {},
   "outputs": [],
   "source": [
    "import barcode"
   ]
  },
  {
   "cell_type": "code",
   "execution_count": 4,
   "metadata": {},
   "outputs": [],
   "source": [
    "%matplotlib inline"
   ]
  },
  {
   "cell_type": "code",
   "execution_count": 5,
   "metadata": {},
   "outputs": [],
   "source": [
    "url = pyqrcode.create('http://www.endchain.io',error = 'H')\n",
    "url.png('test.png',scale=10)\n",
    "im = Image.open('test.png')\n",
    "im = im.convert(\"RGBA\")\n",
    "logo = Image.open('barcode.png')\n",
    "box = (135,135,235,235)\n",
    "im.crop(box)\n",
    "region = logo\n",
    "region = region.resize((box[2] - box[0], box[3] - box[1]))\n",
    "im.paste(region,box)\n",
    "im.show()"
   ]
  },
  {
   "cell_type": "code",
   "execution_count": 32,
   "metadata": {},
   "outputs": [],
   "source": [
    "im.save('out.png')"
   ]
  },
  {
   "cell_type": "code",
   "execution_count": 7,
   "metadata": {},
   "outputs": [],
   "source": [
    "EAN = barcode.get_barcode_class('ean13')\n",
    "ean = EAN(u'5901234123457')"
   ]
  },
  {
   "cell_type": "code",
   "execution_count": 8,
   "metadata": {},
   "outputs": [
    {
     "data": {
      "text/plain": [
       "<EuropeanArticleNumber13(u'5901234123457')>"
      ]
     },
     "execution_count": 8,
     "metadata": {},
     "output_type": "execute_result"
    }
   ],
   "source": [
    "ean"
   ]
  },
  {
   "cell_type": "code",
   "execution_count": 9,
   "metadata": {},
   "outputs": [],
   "source": [
    "from barcode.writer import ImageWriter\n",
    "ean = EAN(u'5901234123457', writer=ImageWriter())\n",
    "fullname = ean.save('ean13_barcode')"
   ]
  },
  {
   "cell_type": "code",
   "execution_count": 10,
   "metadata": {},
   "outputs": [
    {
     "data": {
      "text/plain": [
       "['code39',\n",
       " 'ean',\n",
       " 'ean13',\n",
       " 'ean8',\n",
       " 'gs1',\n",
       " 'gtin',\n",
       " 'isbn',\n",
       " 'isbn10',\n",
       " 'isbn13',\n",
       " 'issn',\n",
       " 'jan',\n",
       " 'pzn',\n",
       " 'upc',\n",
       " 'upca']"
      ]
     },
     "execution_count": 10,
     "metadata": {},
     "output_type": "execute_result"
    }
   ],
   "source": [
    "barcode.PROVIDED_BARCODES"
   ]
  },
  {
   "cell_type": "code",
   "execution_count": 24,
   "metadata": {},
   "outputs": [],
   "source": [
    "UPCA = barcode.get_barcode_class('upca')"
   ]
  },
  {
   "cell_type": "code",
   "execution_count": 25,
   "metadata": {},
   "outputs": [],
   "source": [
    "upca = UPCA(u'01234567898712', writer=ImageWriter())"
   ]
  },
  {
   "cell_type": "code",
   "execution_count": 27,
   "metadata": {},
   "outputs": [
    {
     "data": {
      "text/plain": [
       "u'upca.png'"
      ]
     },
     "execution_count": 27,
     "metadata": {},
     "output_type": "execute_result"
    }
   ],
   "source": [
    "upca.save('upca')"
   ]
  },
  {
   "cell_type": "code",
   "execution_count": 19,
   "metadata": {},
   "outputs": [],
   "source": [
    "from random import randint\n",
    "\n",
    "\n",
    "def decimalToBinary(x):\n",
    "    #This function converts a Decimal into a Binary\n",
    "    #It generates a nibble (4 digits binary number)\n",
    "    binaryNumber=bin(x)[2:]\n",
    "    return (4-len(binaryNumber)) * \"0\" + binaryNumber\n",
    "\n",
    "def drawBarCode(height): \n",
    "    #Generates a 13-digit bar code.\n",
    "    marginLeft=30\n",
    "    marginTop=40\n",
    "    for i in range(1,14):  \n",
    "        digit=randint(0,9)\n",
    "        nibble=decimalToBinary(digit)\n",
    "        for j in range(0,4):  \n",
    "            if nibble[j:j+1]==\"1\":\n",
    "                fill(0,0,0)\n",
    "                stroke(0,0,0)\n",
    "            else:\n",
    "                fill(255,255,255)\n",
    "                stroke(255,255,255)\n",
    "            rect(marginLeft+i*8+2*j, marginTop, 2, height)\n",
    "        \n",
    "        #Display the digit in Decimal\n",
    "        fill(0,0,0)\n",
    "        stroke(0,0,0)\n",
    "        #textSize(10)\n",
    "        text(digit,marginLeft+i*8,marginTop+20+height)\n",
    "                \n",
    "\n",
    "def setup():\n",
    "    strokeWeight(12)\n",
    "    size(200,200)\n",
    "    background(255,255,255)\n",
    "    fill(0,0,0)\n",
    "    stroke(0,0,0)\n",
    "    drawBarCode(80)\n",
    "    "
   ]
  },
  {
   "cell_type": "code",
   "execution_count": 20,
   "metadata": {},
   "outputs": [
    {
     "ename": "NameError",
     "evalue": "global name 'fill' is not defined",
     "output_type": "error",
     "traceback": [
      "\u001b[1;31m---------------------------------------------------------------------------\u001b[0m",
      "\u001b[1;31mNameError\u001b[0m                                 Traceback (most recent call last)",
      "\u001b[1;32m<ipython-input-20-a8554dd3c0eb>\u001b[0m in \u001b[0;36m<module>\u001b[1;34m()\u001b[0m\n\u001b[1;32m----> 1\u001b[1;33m \u001b[0mdrawBarCode\u001b[0m\u001b[1;33m(\u001b[0m\u001b[1;36m20\u001b[0m\u001b[1;33m)\u001b[0m\u001b[1;33m\u001b[0m\u001b[0m\n\u001b[0m",
      "\u001b[1;32m<ipython-input-19-f8f791ffacfc>\u001b[0m in \u001b[0;36mdrawBarCode\u001b[1;34m(height)\u001b[0m\n\u001b[0;32m     20\u001b[0m                 \u001b[0mstroke\u001b[0m\u001b[1;33m(\u001b[0m\u001b[1;36m0\u001b[0m\u001b[1;33m,\u001b[0m\u001b[1;36m0\u001b[0m\u001b[1;33m,\u001b[0m\u001b[1;36m0\u001b[0m\u001b[1;33m)\u001b[0m\u001b[1;33m\u001b[0m\u001b[0m\n\u001b[0;32m     21\u001b[0m             \u001b[1;32melse\u001b[0m\u001b[1;33m:\u001b[0m\u001b[1;33m\u001b[0m\u001b[0m\n\u001b[1;32m---> 22\u001b[1;33m                 \u001b[0mfill\u001b[0m\u001b[1;33m(\u001b[0m\u001b[1;36m255\u001b[0m\u001b[1;33m,\u001b[0m\u001b[1;36m255\u001b[0m\u001b[1;33m,\u001b[0m\u001b[1;36m255\u001b[0m\u001b[1;33m)\u001b[0m\u001b[1;33m\u001b[0m\u001b[0m\n\u001b[0m\u001b[0;32m     23\u001b[0m                 \u001b[0mstroke\u001b[0m\u001b[1;33m(\u001b[0m\u001b[1;36m255\u001b[0m\u001b[1;33m,\u001b[0m\u001b[1;36m255\u001b[0m\u001b[1;33m,\u001b[0m\u001b[1;36m255\u001b[0m\u001b[1;33m)\u001b[0m\u001b[1;33m\u001b[0m\u001b[0m\n\u001b[0;32m     24\u001b[0m             \u001b[0mrect\u001b[0m\u001b[1;33m(\u001b[0m\u001b[0mmarginLeft\u001b[0m\u001b[1;33m+\u001b[0m\u001b[0mi\u001b[0m\u001b[1;33m*\u001b[0m\u001b[1;36m8\u001b[0m\u001b[1;33m+\u001b[0m\u001b[1;36m2\u001b[0m\u001b[1;33m*\u001b[0m\u001b[0mj\u001b[0m\u001b[1;33m,\u001b[0m \u001b[0mmarginTop\u001b[0m\u001b[1;33m,\u001b[0m \u001b[1;36m2\u001b[0m\u001b[1;33m,\u001b[0m \u001b[0mheight\u001b[0m\u001b[1;33m)\u001b[0m\u001b[1;33m\u001b[0m\u001b[0m\n",
      "\u001b[1;31mNameError\u001b[0m: global name 'fill' is not defined"
     ]
    }
   ],
   "source": [
    "drawBarCode(20)"
   ]
  },
  {
   "cell_type": "code",
   "execution_count": null,
   "metadata": {},
   "outputs": [],
   "source": []
  }
 ],
 "metadata": {
  "kernelspec": {
   "display_name": "Python [conda env:Anaconda2]",
   "language": "python",
   "name": "conda-env-Anaconda2-py"
  },
  "language_info": {
   "codemirror_mode": {
    "name": "ipython",
    "version": 2
   },
   "file_extension": ".py",
   "mimetype": "text/x-python",
   "name": "python",
   "nbconvert_exporter": "python",
   "pygments_lexer": "ipython2",
   "version": "2.7.14"
  }
 },
 "nbformat": 4,
 "nbformat_minor": 2
}
